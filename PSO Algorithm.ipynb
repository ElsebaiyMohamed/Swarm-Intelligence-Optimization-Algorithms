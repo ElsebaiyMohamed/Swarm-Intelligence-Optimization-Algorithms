{
 "cells": [
  {
   "cell_type": "code",
   "execution_count": 43,
   "id": "e8e01578-14bc-4889-be16-a45c38ee477c",
   "metadata": {},
   "outputs": [],
   "source": [
    "import numpy as np"
   ]
  },
  {
   "cell_type": "markdown",
   "id": "3de150b6-5262-41d2-a556-e90e7e70bdb6",
   "metadata": {},
   "source": [
    "# 1- Calculate f(x) = x^2 - xy + y^2 + 2x + 4y + 3\n",
    "   ## for the food where food = [x, y]"
   ]
  },
  {
   "cell_type": "code",
   "execution_count": 44,
   "id": "224ad3ca-00a3-49d1-ab99-9860a0a5938c",
   "metadata": {},
   "outputs": [],
   "source": [
    "def calc_fx(position):\n",
    "    x, y = position\n",
    "    return x ** 2 - x * y + y ** 2 + 2 * x + 4 * y + 3"
   ]
  },
  {
   "cell_type": "code",
   "execution_count": 45,
   "id": "1960f143-de32-4aa1-b451-5a67da8554d9",
   "metadata": {},
   "outputs": [],
   "source": [
    "def calc_all_fx(positions):\n",
    "    fx = np.zeros(positions.shape[0])\n",
    "    for i, pos in enumerate(positions):\n",
    "        fx[i] = calc_fx(pos)\n",
    "    return fx"
   ]
  },
  {
   "cell_type": "markdown",
   "id": "384932e9-18b5-4bbf-ba12-6c7ef6fe9af1",
   "metadata": {},
   "source": [
    "# 2- Update Velocity"
   ]
  },
  {
   "cell_type": "code",
   "execution_count": 64,
   "id": "b9ca6e83-cfc9-45cd-9ba7-297b20b61ebf",
   "metadata": {},
   "outputs": [],
   "source": [
    "def update_velocity(vel, pos, ps, gs):\n",
    "    c1 = 1.5\n",
    "    c2 = 1.5\n",
    "    w = 0.9\n",
    "    r1 = np.random.random()\n",
    "    r2 = np.random.random()\n",
    "    new_vel = np.zeros((2,))\n",
    "    \n",
    "    for i in range(vel.shape[0]):\n",
    "        new_vel[i] = w * vel[i] + c1 * r1 * (ps[i] - pos[i]) + c2 * r2 * (gs[i] - pos[i])\n",
    "    return new_vel\n",
    "    \n",
    "    "
   ]
  },
  {
   "cell_type": "code",
   "execution_count": 208,
   "id": "076b0ebc-3acc-40e6-8cde-00ee2f55c745",
   "metadata": {},
   "outputs": [],
   "source": [
    "def update_all_velocity(positions,velocity, personal_best, global_best):\n",
    "    new_velocity = np.zeros(velocity.shape)\n",
    "    for i, vel in enumerate(velocity):\n",
    "        new_velocity[i] = update_velocity(vel, positions[i], personal_best[i], global_best)\n",
    "    return new_velocity"
   ]
  },
  {
   "cell_type": "markdown",
   "id": "12c41765-e761-4184-a1d7-2978bb7476b4",
   "metadata": {},
   "source": [
    "# 3- Update Particle Position "
   ]
  },
  {
   "cell_type": "code",
   "execution_count": 209,
   "id": "6550ec14-ab6e-4efc-a811-3aa77476c44e",
   "metadata": {},
   "outputs": [],
   "source": [
    "def update_postion(positions, velocity):\n",
    "    new_pos = np.zeros(positions.shape)\n",
    "    for i in range(positions.shape[0]):\n",
    "        for j in range(2):\n",
    "            new_pos[i, j] = positions[i, j] + velocity[i, j]\n",
    "            if new_pos[i, j] > 5:\n",
    "                new_pos[i, j] = 5\n",
    "            if new_pos[i, j] < -5:\n",
    "                new_pos[i, j] = -5\n",
    "    return new_pos"
   ]
  },
  {
   "cell_type": "markdown",
   "id": "c76f8888-3fdf-4286-a9ad-d5ad232f2f01",
   "metadata": {},
   "source": [
    "# 4- Update Personal Best Solution"
   ]
  },
  {
   "cell_type": "code",
   "execution_count": 205,
   "id": "cb836ecd-20d1-4da4-b1e0-1407dc60fd38",
   "metadata": {},
   "outputs": [],
   "source": [
    "def update_personal(pos, ps, fx, new_fx, gs):\n",
    "    new_ps = np.zeros(ps.shape)\n",
    "    for i in range(ps.shape[0]):\n",
    "        if fx[i] >= new_fx[i]:\n",
    "            new_ps[i] = ps[i]\n",
    "            continue\n",
    "        new_ps[i] = pos[i]\n",
    "\n",
    "    return new_ps"
   ]
  },
  {
   "cell_type": "markdown",
   "id": "9d08197f-2b9f-45e5-9c4a-81e1c1509973",
   "metadata": {},
   "source": [
    "# 8- PSO algorithm for solve the equation"
   ]
  },
  {
   "cell_type": "code",
   "execution_count": 240,
   "id": "9de3f690-e375-4309-96ea-9418ccbd9990",
   "metadata": {},
   "outputs": [],
   "source": [
    "def PSO(birds = 10, dim = 2, iteration = 10):\n",
    "    # initialize the population\n",
    "    (a, b) = (-5, 5)\n",
    "    positions = (b - a) * np.random.random((birds, dim)) + a\n",
    "    velocity = np.random.random((birds, dim))\n",
    "    personal_best = positions\n",
    "    fx = calc_all_fx(positions)\n",
    "    \n",
    "    global_best = fx.max()\n",
    "    gloabl_indx = fx.argmax()\n",
    "    global_position = personal_best[gloabl_indx]\n",
    "    \n",
    "    for _ in range(iteration):\n",
    "        velocity = update_all_velocity(positions, velocity, personal_best, global_position)\n",
    "        positions = update_postion(positions, velocity)\n",
    "        new_fx = calc_all_fx(positions)\n",
    "        new_global_best = new_fx.max()\n",
    "        if new_global_best > global_best:\n",
    "            global_best = new_global_best\n",
    "            gloabl_indx = new_fx.argmax()\n",
    "            global_position = positions[gloabl_indx]\n",
    "        personal_best = update_personal(positions, personal_best, fx, new_fx, global_position)\n",
    "        fx = new_fx\n",
    "        fx[gloabl_indx] = global_best      \n",
    "    return global_position, global_best"
   ]
  },
  {
   "cell_type": "markdown",
   "id": "aeba599a-8ccc-4744-b177-f142a28ece43",
   "metadata": {},
   "source": [
    "# 9- Test the algorithm"
   ]
  },
  {
   "cell_type": "code",
   "execution_count": 369,
   "id": "b377400b-b82d-46d4-bcd2-52aec91991a3",
   "metadata": {},
   "outputs": [
    {
     "name": "stdout",
     "output_type": "stream",
     "text": [
      "the best solution is\n",
      "X = -5.0\n",
      "Y = 5.0\n",
      "f(x) = x^2 - xy + y^2 + 2x + 4y + 3 = 88.0\n"
     ]
    }
   ],
   "source": [
    "food, fx = PSO()\n",
    "print(f\"the best solution is\\nX = {food[0]}\\nY = {food[1]}\")\n",
    "print(f\"f(x) = x^2 - xy + y^2 + 2x + 4y + 3 = {fx}\")"
   ]
  },
  {
   "cell_type": "code",
   "execution_count": 264,
   "id": "2158b007-5785-4256-8cd5-c54adb8c02e8",
   "metadata": {},
   "outputs": [
    {
     "data": {
      "text/plain": [
       "58.0"
      ]
     },
     "execution_count": 264,
     "metadata": {},
     "output_type": "execute_result"
    }
   ],
   "source": []
  },
  {
   "cell_type": "code",
   "execution_count": null,
   "id": "ea4b15cd-ea46-499e-b05b-66f9d89baf50",
   "metadata": {},
   "outputs": [],
   "source": []
  },
  {
   "cell_type": "code",
   "execution_count": null,
   "id": "39badde3-67db-4dd6-a159-07638b1dda91",
   "metadata": {},
   "outputs": [],
   "source": []
  }
 ],
 "metadata": {
  "kernelspec": {
   "display_name": "Python 3 (ipykernel)",
   "language": "python",
   "name": "python3"
  },
  "language_info": {
   "codemirror_mode": {
    "name": "ipython",
    "version": 3
   },
   "file_extension": ".py",
   "mimetype": "text/x-python",
   "name": "python",
   "nbconvert_exporter": "python",
   "pygments_lexer": "ipython3",
   "version": "3.9.7"
  }
 },
 "nbformat": 4,
 "nbformat_minor": 5
}
