{
 "cells": [
  {
   "cell_type": "code",
   "execution_count": 1,
   "id": "90326ed6-c061-4bcd-8a1e-baaccc26ecfa",
   "metadata": {},
   "outputs": [],
   "source": [
    "import numpy as np"
   ]
  },
  {
   "cell_type": "markdown",
   "id": "34f681e3-f915-4940-bd94-a410db65615b",
   "metadata": {},
   "source": [
    "# 1- Calculate f(x) = x^2 - xy + y^2 + 2x + 4y + 3\n",
    "\n",
    "## for the food where food = [x, y]"
   ]
  },
  {
   "cell_type": "code",
   "execution_count": 2,
   "id": "ef7e7dff-f715-4c59-a49e-fdce0e155705",
   "metadata": {},
   "outputs": [],
   "source": [
    "def calc_food_fx(food):\n",
    "    x, y = food\n",
    "    return x ** 2 - x * y + y ** 2 + 2 * x + 4 * y + 3"
   ]
  },
  {
   "cell_type": "markdown",
   "id": "ba8d4229-5d9a-4b6a-9620-0e60b3a7a334",
   "metadata": {},
   "source": [
    "# 2- Calculate food fitness "
   ]
  },
  {
   "cell_type": "code",
   "execution_count": 3,
   "id": "aff3f27e-6d04-4741-a666-80876f20fde1",
   "metadata": {},
   "outputs": [],
   "source": [
    "def calc_food_fitness(fx):\n",
    "    if fx >= 0:\n",
    "        return 1 / (1 + fx)\n",
    "    else:\n",
    "         return 1 + abs(fx)"
   ]
  },
  {
   "cell_type": "markdown",
   "id": "fbc9be22-2089-4420-bbdc-cf839b4bca2f",
   "metadata": {},
   "source": [
    "# 3- Calculate f(x) for all the population"
   ]
  },
  {
   "cell_type": "code",
   "execution_count": 4,
   "id": "6b02115f-a6c7-4901-bd5c-f605c6a84f97",
   "metadata": {},
   "outputs": [],
   "source": [
    "def calc_swarm_fx(food_source):\n",
    "    fx = np.empty(food_source.shape[0])\n",
    "    for index, food in enumerate(food_source):\n",
    "        fx[index] =  calc_food_fx(food)\n",
    "    return fx"
   ]
  },
  {
   "cell_type": "markdown",
   "id": "afcbef2a-8ffb-4cbc-a44d-6c53792c9043",
   "metadata": {},
   "source": [
    "# 4- Calculate fitness for all the population"
   ]
  },
  {
   "cell_type": "code",
   "execution_count": 5,
   "id": "dafe3691-0447-4122-89ac-07d6be7533ed",
   "metadata": {},
   "outputs": [],
   "source": [
    "def calc_swarm_fitness(fx):\n",
    "    fitness = np.empty(fx.shape)\n",
    "    for index, f in enumerate(fx):\n",
    "        fitness[index] = calc_food_fitness(f)     \n",
    "    return fitness"
   ]
  },
  {
   "cell_type": "markdown",
   "id": "ee3022a0-f6b8-41f8-9503-f6ae23ea642a",
   "metadata": {},
   "source": [
    "# 5- Employee Phase "
   ]
  },
  {
   "cell_type": "code",
   "execution_count": 6,
   "id": "a0a06440-cb77-431d-b3bc-918de659203c",
   "metadata": {},
   "outputs": [],
   "source": [
    "def employeePhase(food_source, fx, fitness, trial):\n",
    "    \n",
    "    new_food_source = np.zeros(food_source.shape)\n",
    "    new_fx = np.zeros(fx.shape)\n",
    "    new_fitness = np.zeros(fitness.shape)\n",
    "    \n",
    "    for index, row in enumerate(food_source):\n",
    "        \n",
    "        x_index = np.random.randint(food_source.shape[1]) \n",
    "        partner_index = np.random.randint(food_source.shape[0])\n",
    "        partner = food_source[partner_index]\n",
    "        \n",
    "        # x_new = x + phi * (x - x_partner)\n",
    "        phi = np.random.random()\n",
    "        food = row.copy()\n",
    "        food[x_index] = food[x_index] + phi * (food[x_index] - partner[x_index])\n",
    "        \n",
    "        # Scaling out of the range value to (-5, 5)\n",
    "        if food[x_index] > 5.0:\n",
    "            food[x_index] = 5.0\n",
    "        if food[x_index] < -5.0:\n",
    "            food[x_index] = -5.0\n",
    "            \n",
    "        food_fx = calc_food_fx(food)    \n",
    "        food_fitness = calc_food_fitness(food_fx)\n",
    "        if food_fitness < fitness[index]: # the new solution better than old solution\n",
    "            new_food_source[index] = food\n",
    "            new_fx[index] = calc_food_fx(food)\n",
    "            new_fitness[index] = calc_food_fitness(food_fx)\n",
    "            trial[index] = 0\n",
    "            \n",
    "        else: # the old solution better than the new\n",
    "            \n",
    "            new_food_source[index] = food_source[index]\n",
    "            new_fx[index] = fx[index]\n",
    "            new_fitness[index] = fitness[index]\n",
    "            trial[index] += 1    \n",
    "            \n",
    "    return new_food_source, new_fx, new_fitness, trial"
   ]
  },
  {
   "cell_type": "markdown",
   "id": "52fdd3ce-7754-4e20-a3b8-e01068b2d4fd",
   "metadata": {},
   "source": [
    "# 6- OnLooker Phase"
   ]
  },
  {
   "cell_type": "code",
   "execution_count": 7,
   "id": "c3a6d1d3-2aa4-48ba-b587-6b58d657d68d",
   "metadata": {},
   "outputs": [],
   "source": [
    "def onLookerPhase(food_source, fx, fitness, trial):\n",
    "    \n",
    "    np.seterr(invalid='ignore') # Supress/hide the warning\n",
    "    probs = fitness / fitness.sum() # calculate the population probability\n",
    "    \n",
    "    new_food_source = np.zeros(food_source.shape)\n",
    "    new_fx = np.zeros(fx.shape)\n",
    "    new_fitness = np.zeros(fitness.shape)\n",
    "    \n",
    "    for index, row in enumerate(food_source):\n",
    "        \n",
    "        r = np.random.random()\n",
    "        if r > probs[index]:\n",
    "            new_food_source[index] = food_source[index]\n",
    "            new_fx[index] = fx[index]\n",
    "            new_fitness[index] = fitness[index]\n",
    "            continue\n",
    "        \n",
    "        x_index = np.random.randint(food_source.shape[1]) \n",
    "        partner_index = np.random.randint(food_source.shape[0])\n",
    "        partner = food_source[partner_index]\n",
    "        \n",
    "        # x_new = x + phi * (x - x_partner)\n",
    "        food = row.copy()\n",
    "        phi = np.random.random()\n",
    "        food[x_index] = food[x_index] + phi * (food[x_index] - partner[x_index])\n",
    "        \n",
    "        # Scaling out of the range value to (-5, 5)\n",
    "        if food[x_index] > 5.0:\n",
    "            food[x_index] = 5.0 \n",
    "        if food[x_index] < -5.0:\n",
    "            food[x_index] = -5.0\n",
    "            \n",
    "        food_fx = calc_food_fx(food)    \n",
    "        food_fitness = calc_food_fitness(food_fx)\n",
    "        if food_fitness < fitness[index]: # the new solution better than old solution\n",
    "            new_food_source[index] = food\n",
    "            new_fx[index] = calc_food_fx(food)\n",
    "            new_fitness[index] = calc_food_fitness(food_fx)\n",
    "            trial[index] = 0\n",
    "            \n",
    "        else: # the old solution better than the new\n",
    "            \n",
    "            new_food_source[index] = food_source[index]\n",
    "            new_fx[index] = fx[index]\n",
    "            new_fitness[index] = fitness[index]\n",
    "            trial[index] += 1    \n",
    "            \n",
    "    return new_food_source, new_fx, new_fitness, trial"
   ]
  },
  {
   "cell_type": "markdown",
   "id": "e86e8643-fea3-42d3-8d4c-b701bcd23158",
   "metadata": {},
   "source": [
    "# 7- Scout Phase"
   ]
  },
  {
   "cell_type": "code",
   "execution_count": 8,
   "id": "e19b06d5-1e6c-4a4b-b560-bc0869791126",
   "metadata": {},
   "outputs": [],
   "source": [
    "def scoutPhase(food_source, fx, fitness, trial, scope, limit):\n",
    "    \n",
    "    (b, a) = scope #(-5, 5)\n",
    "    \n",
    "    for index in range(food_source.shape[0]):\n",
    "        \n",
    "        if trial[index] > limit:\n",
    "            \n",
    "            food_source[index] = (b - a) * np.random.random((1, food_source.shape[1])) + a\n",
    "            fx[index] = calc_food_fx(food_source[index])\n",
    "            fitness[index] = calc_food_fitness(fx[index])\n",
    "            trial[index] = 0\n",
    "            \n",
    "    return food_source, fx, fitness, trial"
   ]
  },
  {
   "cell_type": "markdown",
   "id": "74f92c58-8922-4fa5-ba7f-52d27309e4f5",
   "metadata": {},
   "source": [
    "# 8- ABC algorithm for solve the equation"
   ]
  },
  {
   "cell_type": "code",
   "execution_count": 9,
   "id": "4d60abf5-e7c2-4344-aa30-725020aee295",
   "metadata": {},
   "outputs": [],
   "source": [
    "def ABC(swarm_size = 10, dim = 2, limit = 1, iteration = 20):\n",
    "    # initialize the population\n",
    "    (a, b) = (-5, 5)\n",
    "    food_source = (b - a) * np.random.random((swarm_size, dim)) + a\n",
    "    fx = np.zeros(10)\n",
    "    fitness = np.zeros(10)\n",
    "    trial = np.zeros(10)\n",
    "    \n",
    "    best_food = None\n",
    "    best_fx = None\n",
    "    \n",
    "    for _ in range(iteration):\n",
    "        \n",
    "        food_source, fx, fitness, trial = employeePhase(food_source, fx, fitness, trial) # Employee Phase\n",
    "        \n",
    "        food_source, fx, fitness, trial = onLookerPhase(food_source, fx, fitness, trial) # OnLooker Phase\n",
    "        \n",
    "        food_source, fx, fitness, trial = scoutPhase(food_source, fx, fitness, trial, (a, b), limit) # Scout Phase\n",
    "        \n",
    "        # Memorize the best solution\n",
    "        i = fx.argmax()\n",
    "        new_best_fx = fx[i]\n",
    "        if best_fx is None or best_fx < new_best_fx:\n",
    "            best_fx = new_best_fx\n",
    "            best_food = food_source[i]\n",
    "        \n",
    "    return best_food, best_fx"
   ]
  },
  {
   "cell_type": "markdown",
   "id": "af2308aa-05b8-4940-84c4-26417c97125a",
   "metadata": {},
   "source": [
    "# 9- Test the algorithm"
   ]
  },
  {
   "cell_type": "code",
   "execution_count": 10,
   "id": "9729fccd-549c-4dba-b585-a6a70de4a192",
   "metadata": {},
   "outputs": [
    {
     "name": "stdout",
     "output_type": "stream",
     "text": [
      "the best solution is\n",
      "X = -5.0\n",
      "Y = 5.0\n",
      "f(x) = x^2 - xy + y^2 + 2x + 4y + 3 = 88.0\n"
     ]
    }
   ],
   "source": [
    "food, fx = ABC(swarm_size = 10, dim = 2, limit = 1, iteration = 20)\n",
    "print(f\"the best solution is\\nX = {food[0]}\\nY = {food[1]}\")\n",
    "print(f\"f(x) = x^2 - xy + y^2 + 2x + 4y + 3 = {fx}\")"
   ]
  },
  {
   "cell_type": "code",
   "execution_count": null,
   "id": "c46bccda-0250-4e57-8fdd-d8d7cbeec0c7",
   "metadata": {},
   "outputs": [],
   "source": []
  },
  {
   "cell_type": "code",
   "execution_count": null,
   "id": "93fa8e6f-5595-4ca8-b36e-71956e9ac41c",
   "metadata": {},
   "outputs": [],
   "source": []
  }
 ],
 "metadata": {
  "kernelspec": {
   "display_name": "Python 3 (ipykernel)",
   "language": "python",
   "name": "python3"
  },
  "language_info": {
   "codemirror_mode": {
    "name": "ipython",
    "version": 3
   },
   "file_extension": ".py",
   "mimetype": "text/x-python",
   "name": "python",
   "nbconvert_exporter": "python",
   "pygments_lexer": "ipython3",
   "version": "3.9.7"
  }
 },
 "nbformat": 4,
 "nbformat_minor": 5
}
